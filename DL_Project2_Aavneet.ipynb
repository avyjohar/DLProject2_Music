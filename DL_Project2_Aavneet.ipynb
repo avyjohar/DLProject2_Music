{
 "cells": [
  {
   "cell_type": "code",
   "execution_count": 1,
   "id": "52224b0d",
   "metadata": {},
   "outputs": [
    {
     "name": "stdout",
     "output_type": "stream",
     "text": [
      "Genres found: ['blues', 'classical', 'country', 'disco', 'hiphop', 'jazz', 'metal', 'pop', 'reggae', 'rock']\n"
     ]
    }
   ],
   "source": [
    "# Import required libraries\n",
    "import os\n",
    "import librosa\n",
    "import numpy as np\n",
    "import pandas as pd\n",
    "from sklearn.model_selection import train_test_split\n",
    "\n",
    "# Path to the folder containing audio files\n",
    "data_path = r\"C:\\Users\\Aavneet Singh Johar\\IIT_Kanpur_Edvancer\\Python\\Deep Learning projects\\Project 2\\genres\"\n",
    "\n",
    "# Verify that the directory exists and list the genres\n",
    "if os.path.exists(data_path):\n",
    "    genres = os.listdir(data_path)\n",
    "    print(\"Genres found:\", genres)\n",
    "else:\n",
    "    print(\"The specified data path does not exist.\")"
   ]
  },
  {
   "cell_type": "code",
   "execution_count": 2,
   "id": "85a156c5",
   "metadata": {},
   "outputs": [],
   "source": [
    "# Feature extraction function\n",
    "def extract_features_extended(file_path):\n",
    "    try:\n",
    "        audio, sr = librosa.load(file_path, sr=22050, duration=30)\n",
    "        \n",
    "        # MFCCs\n",
    "        mfccs = librosa.feature.mfcc(y=audio, sr=sr, n_mfcc=13)\n",
    "        mfccs_scaled = np.mean(mfccs.T, axis=0)\n",
    "        \n",
    "        # Spectral Contrast\n",
    "        spectral_contrast = librosa.feature.spectral_contrast(y=audio, sr=sr)\n",
    "        spectral_contrast_scaled = np.mean(spectral_contrast.T, axis=0)\n",
    "        \n",
    "        # Chroma Features\n",
    "        chroma = librosa.feature.chroma_stft(y=audio, sr=sr)\n",
    "        chroma_scaled = np.mean(chroma.T, axis=0)\n",
    "        \n",
    "        # Zero Crossing Rate\n",
    "        zero_crossing = librosa.feature.zero_crossing_rate(y=audio)\n",
    "        zero_crossing_scaled = np.mean(zero_crossing)\n",
    "        \n",
    "        return np.hstack([mfccs_scaled, spectral_contrast_scaled, chroma_scaled, zero_crossing_scaled])\n",
    "    except Exception as e:\n",
    "        print(f\"Error processing {file_path}: {e}\")\n",
    "        return None"
   ]
  },
  {
   "cell_type": "code",
   "execution_count": 3,
   "id": "9bdbdcf5",
   "metadata": {},
   "outputs": [],
   "source": [
    "def prepare_dataset(data_path):\n",
    "    features = []\n",
    "    labels = []\n",
    "    \n",
    "    # Get a list of genres\n",
    "    genres = os.listdir(data_path)\n",
    "    for genre in genres:\n",
    "        genre_path = os.path.join(data_path, genre)\n",
    "        \n",
    "        # Skip if it's not a directory\n",
    "        if not os.path.isdir(genre_path):\n",
    "            continue\n",
    "        \n",
    "        print(f\"Processing genre: {genre}\")\n",
    "        \n",
    "        # Process each file in the genre folder\n",
    "        for file in os.listdir(genre_path):\n",
    "            file_path = os.path.join(genre_path, file)\n",
    "            \n",
    "            # Assuming all files are in `.au` format\n",
    "            # If your dataset has mixed file types, adjust this condition\n",
    "            if file.endswith(\".au\"):\n",
    "                audio_features = extract_features_extended(file_path)\n",
    "                if audio_features is not None:\n",
    "                    features.append(audio_features)\n",
    "                    labels.append(genre)\n",
    "    \n",
    "    features = np.array(features)\n",
    "    labels = np.array(labels)\n",
    "    \n",
    "    print(f\"Feature array shape: {features.shape}\")\n",
    "    print(f\"Labels array shape: {labels.shape}\")\n",
    "    \n",
    "    return features, labels\n"
   ]
  },
  {
   "cell_type": "code",
   "execution_count": 4,
   "id": "477c46e5",
   "metadata": {},
   "outputs": [
    {
     "name": "stdout",
     "output_type": "stream",
     "text": [
      "Processing genre: blues\n",
      "Processing genre: classical\n",
      "Processing genre: country\n",
      "Processing genre: disco\n",
      "Processing genre: hiphop\n",
      "Processing genre: jazz\n",
      "Processing genre: metal\n",
      "Processing genre: pop\n",
      "Processing genre: reggae\n",
      "Processing genre: rock\n",
      "Feature array shape: (1000, 33)\n",
      "Labels array shape: (1000,)\n"
     ]
    }
   ],
   "source": [
    "features, labels = prepare_dataset(data_path)"
   ]
  },
  {
   "cell_type": "code",
   "execution_count": 5,
   "id": "fd20a340",
   "metadata": {},
   "outputs": [
    {
     "name": "stdout",
     "output_type": "stream",
     "text": [
      "Classes: ['blues' 'classical' 'country' 'disco' 'hiphop' 'jazz' 'metal' 'pop'\n",
      " 'reggae' 'rock']\n",
      "Encoded classes: [0 1 2 3 4 5 6 7 8 9]\n",
      "Training Samples: 800\n",
      "Validation Samples: 200\n"
     ]
    }
   ],
   "source": [
    "from sklearn.preprocessing import LabelEncoder\n",
    "from sklearn.model_selection import train_test_split\n",
    "\n",
    "# Step 3A: Encode Labels\n",
    "label_encoder = LabelEncoder()\n",
    "labels_encoded = label_encoder.fit_transform(labels)\n",
    "\n",
    "# Check how classes are mapped\n",
    "print(\"Classes:\", label_encoder.classes_)\n",
    "print(\"Encoded classes:\", np.unique(labels_encoded))\n",
    "\n",
    "# Step 3B: Train-Test Split\n",
    "# Going with an 80-20 split\n",
    "X_train, X_val, y_train, y_val = train_test_split(\n",
    "    features, \n",
    "    labels_encoded, \n",
    "    test_size=0.2, \n",
    "    random_state=42\n",
    ")\n",
    "\n",
    "print(\"Training Samples:\", len(X_train))\n",
    "print(\"Validation Samples:\", len(X_val))"
   ]
  },
  {
   "cell_type": "code",
   "execution_count": 6,
   "id": "2aadf0f5",
   "metadata": {},
   "outputs": [
    {
     "name": "stdout",
     "output_type": "stream",
     "text": [
      "Shape of y_train_cat: (800, 10)\n",
      "Shape of y_val_cat: (200, 10)\n"
     ]
    },
    {
     "name": "stderr",
     "output_type": "stream",
     "text": [
      "E:\\Anaconda3\\Lib\\site-packages\\keras\\src\\layers\\core\\dense.py:87: UserWarning: Do not pass an `input_shape`/`input_dim` argument to a layer. When using Sequential models, prefer using an `Input(shape)` object as the first layer in the model instead.\n",
      "  super().__init__(activity_regularizer=activity_regularizer, **kwargs)\n"
     ]
    },
    {
     "data": {
      "text/html": [
       "<pre style=\"white-space:pre;overflow-x:auto;line-height:normal;font-family:Menlo,'DejaVu Sans Mono',consolas,'Courier New',monospace\"><span style=\"font-weight: bold\">Model: \"sequential\"</span>\n",
       "</pre>\n"
      ],
      "text/plain": [
       "\u001b[1mModel: \"sequential\"\u001b[0m\n"
      ]
     },
     "metadata": {},
     "output_type": "display_data"
    },
    {
     "data": {
      "text/html": [
       "<pre style=\"white-space:pre;overflow-x:auto;line-height:normal;font-family:Menlo,'DejaVu Sans Mono',consolas,'Courier New',monospace\">┏━━━━━━━━━━━━━━━━━━━━━━━━━━━━━━━━━━━━━━┳━━━━━━━━━━━━━━━━━━━━━━━━━━━━━┳━━━━━━━━━━━━━━━━━┓\n",
       "┃<span style=\"font-weight: bold\"> Layer (type)                         </span>┃<span style=\"font-weight: bold\"> Output Shape                </span>┃<span style=\"font-weight: bold\">         Param # </span>┃\n",
       "┡━━━━━━━━━━━━━━━━━━━━━━━━━━━━━━━━━━━━━━╇━━━━━━━━━━━━━━━━━━━━━━━━━━━━━╇━━━━━━━━━━━━━━━━━┩\n",
       "│ dense (<span style=\"color: #0087ff; text-decoration-color: #0087ff\">Dense</span>)                        │ (<span style=\"color: #00d7ff; text-decoration-color: #00d7ff\">None</span>, <span style=\"color: #00af00; text-decoration-color: #00af00\">512</span>)                 │          <span style=\"color: #00af00; text-decoration-color: #00af00\">17,408</span> │\n",
       "├──────────────────────────────────────┼─────────────────────────────┼─────────────────┤\n",
       "│ batch_normalization                  │ (<span style=\"color: #00d7ff; text-decoration-color: #00d7ff\">None</span>, <span style=\"color: #00af00; text-decoration-color: #00af00\">512</span>)                 │           <span style=\"color: #00af00; text-decoration-color: #00af00\">2,048</span> │\n",
       "│ (<span style=\"color: #0087ff; text-decoration-color: #0087ff\">BatchNormalization</span>)                 │                             │                 │\n",
       "├──────────────────────────────────────┼─────────────────────────────┼─────────────────┤\n",
       "│ dropout (<span style=\"color: #0087ff; text-decoration-color: #0087ff\">Dropout</span>)                    │ (<span style=\"color: #00d7ff; text-decoration-color: #00d7ff\">None</span>, <span style=\"color: #00af00; text-decoration-color: #00af00\">512</span>)                 │               <span style=\"color: #00af00; text-decoration-color: #00af00\">0</span> │\n",
       "├──────────────────────────────────────┼─────────────────────────────┼─────────────────┤\n",
       "│ dense_1 (<span style=\"color: #0087ff; text-decoration-color: #0087ff\">Dense</span>)                      │ (<span style=\"color: #00d7ff; text-decoration-color: #00d7ff\">None</span>, <span style=\"color: #00af00; text-decoration-color: #00af00\">256</span>)                 │         <span style=\"color: #00af00; text-decoration-color: #00af00\">131,328</span> │\n",
       "├──────────────────────────────────────┼─────────────────────────────┼─────────────────┤\n",
       "│ batch_normalization_1                │ (<span style=\"color: #00d7ff; text-decoration-color: #00d7ff\">None</span>, <span style=\"color: #00af00; text-decoration-color: #00af00\">256</span>)                 │           <span style=\"color: #00af00; text-decoration-color: #00af00\">1,024</span> │\n",
       "│ (<span style=\"color: #0087ff; text-decoration-color: #0087ff\">BatchNormalization</span>)                 │                             │                 │\n",
       "├──────────────────────────────────────┼─────────────────────────────┼─────────────────┤\n",
       "│ dropout_1 (<span style=\"color: #0087ff; text-decoration-color: #0087ff\">Dropout</span>)                  │ (<span style=\"color: #00d7ff; text-decoration-color: #00d7ff\">None</span>, <span style=\"color: #00af00; text-decoration-color: #00af00\">256</span>)                 │               <span style=\"color: #00af00; text-decoration-color: #00af00\">0</span> │\n",
       "├──────────────────────────────────────┼─────────────────────────────┼─────────────────┤\n",
       "│ dense_2 (<span style=\"color: #0087ff; text-decoration-color: #0087ff\">Dense</span>)                      │ (<span style=\"color: #00d7ff; text-decoration-color: #00d7ff\">None</span>, <span style=\"color: #00af00; text-decoration-color: #00af00\">10</span>)                  │           <span style=\"color: #00af00; text-decoration-color: #00af00\">2,570</span> │\n",
       "└──────────────────────────────────────┴─────────────────────────────┴─────────────────┘\n",
       "</pre>\n"
      ],
      "text/plain": [
       "┏━━━━━━━━━━━━━━━━━━━━━━━━━━━━━━━━━━━━━━┳━━━━━━━━━━━━━━━━━━━━━━━━━━━━━┳━━━━━━━━━━━━━━━━━┓\n",
       "┃\u001b[1m \u001b[0m\u001b[1mLayer (type)                        \u001b[0m\u001b[1m \u001b[0m┃\u001b[1m \u001b[0m\u001b[1mOutput Shape               \u001b[0m\u001b[1m \u001b[0m┃\u001b[1m \u001b[0m\u001b[1m        Param #\u001b[0m\u001b[1m \u001b[0m┃\n",
       "┡━━━━━━━━━━━━━━━━━━━━━━━━━━━━━━━━━━━━━━╇━━━━━━━━━━━━━━━━━━━━━━━━━━━━━╇━━━━━━━━━━━━━━━━━┩\n",
       "│ dense (\u001b[38;5;33mDense\u001b[0m)                        │ (\u001b[38;5;45mNone\u001b[0m, \u001b[38;5;34m512\u001b[0m)                 │          \u001b[38;5;34m17,408\u001b[0m │\n",
       "├──────────────────────────────────────┼─────────────────────────────┼─────────────────┤\n",
       "│ batch_normalization                  │ (\u001b[38;5;45mNone\u001b[0m, \u001b[38;5;34m512\u001b[0m)                 │           \u001b[38;5;34m2,048\u001b[0m │\n",
       "│ (\u001b[38;5;33mBatchNormalization\u001b[0m)                 │                             │                 │\n",
       "├──────────────────────────────────────┼─────────────────────────────┼─────────────────┤\n",
       "│ dropout (\u001b[38;5;33mDropout\u001b[0m)                    │ (\u001b[38;5;45mNone\u001b[0m, \u001b[38;5;34m512\u001b[0m)                 │               \u001b[38;5;34m0\u001b[0m │\n",
       "├──────────────────────────────────────┼─────────────────────────────┼─────────────────┤\n",
       "│ dense_1 (\u001b[38;5;33mDense\u001b[0m)                      │ (\u001b[38;5;45mNone\u001b[0m, \u001b[38;5;34m256\u001b[0m)                 │         \u001b[38;5;34m131,328\u001b[0m │\n",
       "├──────────────────────────────────────┼─────────────────────────────┼─────────────────┤\n",
       "│ batch_normalization_1                │ (\u001b[38;5;45mNone\u001b[0m, \u001b[38;5;34m256\u001b[0m)                 │           \u001b[38;5;34m1,024\u001b[0m │\n",
       "│ (\u001b[38;5;33mBatchNormalization\u001b[0m)                 │                             │                 │\n",
       "├──────────────────────────────────────┼─────────────────────────────┼─────────────────┤\n",
       "│ dropout_1 (\u001b[38;5;33mDropout\u001b[0m)                  │ (\u001b[38;5;45mNone\u001b[0m, \u001b[38;5;34m256\u001b[0m)                 │               \u001b[38;5;34m0\u001b[0m │\n",
       "├──────────────────────────────────────┼─────────────────────────────┼─────────────────┤\n",
       "│ dense_2 (\u001b[38;5;33mDense\u001b[0m)                      │ (\u001b[38;5;45mNone\u001b[0m, \u001b[38;5;34m10\u001b[0m)                  │           \u001b[38;5;34m2,570\u001b[0m │\n",
       "└──────────────────────────────────────┴─────────────────────────────┴─────────────────┘\n"
      ]
     },
     "metadata": {},
     "output_type": "display_data"
    },
    {
     "data": {
      "text/html": [
       "<pre style=\"white-space:pre;overflow-x:auto;line-height:normal;font-family:Menlo,'DejaVu Sans Mono',consolas,'Courier New',monospace\"><span style=\"font-weight: bold\"> Total params: </span><span style=\"color: #00af00; text-decoration-color: #00af00\">154,378</span> (603.04 KB)\n",
       "</pre>\n"
      ],
      "text/plain": [
       "\u001b[1m Total params: \u001b[0m\u001b[38;5;34m154,378\u001b[0m (603.04 KB)\n"
      ]
     },
     "metadata": {},
     "output_type": "display_data"
    },
    {
     "data": {
      "text/html": [
       "<pre style=\"white-space:pre;overflow-x:auto;line-height:normal;font-family:Menlo,'DejaVu Sans Mono',consolas,'Courier New',monospace\"><span style=\"font-weight: bold\"> Trainable params: </span><span style=\"color: #00af00; text-decoration-color: #00af00\">152,842</span> (597.04 KB)\n",
       "</pre>\n"
      ],
      "text/plain": [
       "\u001b[1m Trainable params: \u001b[0m\u001b[38;5;34m152,842\u001b[0m (597.04 KB)\n"
      ]
     },
     "metadata": {},
     "output_type": "display_data"
    },
    {
     "data": {
      "text/html": [
       "<pre style=\"white-space:pre;overflow-x:auto;line-height:normal;font-family:Menlo,'DejaVu Sans Mono',consolas,'Courier New',monospace\"><span style=\"font-weight: bold\"> Non-trainable params: </span><span style=\"color: #00af00; text-decoration-color: #00af00\">1,536</span> (6.00 KB)\n",
       "</pre>\n"
      ],
      "text/plain": [
       "\u001b[1m Non-trainable params: \u001b[0m\u001b[38;5;34m1,536\u001b[0m (6.00 KB)\n"
      ]
     },
     "metadata": {},
     "output_type": "display_data"
    }
   ],
   "source": [
    "import tensorflow as tf\n",
    "from tensorflow.keras.models import Sequential\n",
    "from tensorflow.keras.layers import Dense, Dropout, BatchNormalization\n",
    "from tensorflow.keras.utils import to_categorical\n",
    "\n",
    "# Step 4A: Convert integer labels to one-hot encoded vectors\n",
    "y_train_cat = to_categorical(y_train)\n",
    "y_val_cat = to_categorical(y_val)\n",
    "\n",
    "print(\"Shape of y_train_cat:\", y_train_cat.shape)\n",
    "print(\"Shape of y_val_cat:\", y_val_cat.shape)\n",
    "\n",
    "# Step 4B: Define Model Architecture\n",
    "def create_genre_model(input_dim, num_classes):\n",
    "    model = Sequential([\n",
    "        Dense(512, activation='relu', input_shape=(input_dim,)),\n",
    "        BatchNormalization(),\n",
    "        Dropout(0.4),\n",
    "        \n",
    "        Dense(256, activation='relu'),\n",
    "        BatchNormalization(),\n",
    "        Dropout(0.4),\n",
    "        \n",
    "        Dense(num_classes, activation='softmax')\n",
    "    ])\n",
    "    \n",
    "    model.compile(\n",
    "        optimizer='adam',\n",
    "        loss='categorical_crossentropy',\n",
    "        metrics=['accuracy']\n",
    "    )\n",
    "    return model\n",
    "\n",
    "# Step 4C: Build and summarize the model\n",
    "model = create_genre_model(input_dim=features.shape[1], num_classes=len(np.unique(labels_encoded)))\n",
    "model.summary()"
   ]
  },
  {
   "cell_type": "code",
   "execution_count": 10,
   "id": "9799a992",
   "metadata": {},
   "outputs": [
    {
     "name": "stdout",
     "output_type": "stream",
     "text": [
      "Epoch 1/50\n",
      "\u001b[1m13/25\u001b[0m \u001b[32m━━━━━━━━━━\u001b[0m\u001b[37m━━━━━━━━━━\u001b[0m \u001b[1m0s\u001b[0m 4ms/step - accuracy: 0.8216 - loss: 0.4878 \n",
      "Epoch 1: val_loss improved from inf to 1.13949, saving model to best_model.h5\n"
     ]
    },
    {
     "name": "stderr",
     "output_type": "stream",
     "text": [
      "WARNING:absl:You are saving your model as an HDF5 file via `model.save()` or `keras.saving.save_model(model)`. This file format is considered legacy. We recommend using instead the native Keras format, e.g. `model.save('my_model.keras')` or `keras.saving.save_model(model, 'my_model.keras')`. \n"
     ]
    },
    {
     "name": "stdout",
     "output_type": "stream",
     "text": [
      "\u001b[1m25/25\u001b[0m \u001b[32m━━━━━━━━━━━━━━━━━━━━\u001b[0m\u001b[37m\u001b[0m \u001b[1m0s\u001b[0m 12ms/step - accuracy: 0.8268 - loss: 0.4747 - val_accuracy: 0.7200 - val_loss: 1.1395\n",
      "Epoch 2/50\n",
      "\u001b[1m13/25\u001b[0m \u001b[32m━━━━━━━━━━\u001b[0m\u001b[37m━━━━━━━━━━\u001b[0m \u001b[1m0s\u001b[0m 4ms/step - accuracy: 0.8384 - loss: 0.4558 \n",
      "Epoch 2: val_loss did not improve from 1.13949\n",
      "\u001b[1m25/25\u001b[0m \u001b[32m━━━━━━━━━━━━━━━━━━━━\u001b[0m\u001b[37m\u001b[0m \u001b[1m0s\u001b[0m 9ms/step - accuracy: 0.8424 - loss: 0.4543 - val_accuracy: 0.7350 - val_loss: 1.1461\n",
      "Epoch 3/50\n",
      "\u001b[1m15/25\u001b[0m \u001b[32m━━━━━━━━━━━━\u001b[0m\u001b[37m━━━━━━━━\u001b[0m \u001b[1m0s\u001b[0m 4ms/step - accuracy: 0.8412 - loss: 0.4512 \n",
      "Epoch 3: val_loss improved from 1.13949 to 1.12046, saving model to best_model.h5\n"
     ]
    },
    {
     "name": "stderr",
     "output_type": "stream",
     "text": [
      "WARNING:absl:You are saving your model as an HDF5 file via `model.save()` or `keras.saving.save_model(model)`. This file format is considered legacy. We recommend using instead the native Keras format, e.g. `model.save('my_model.keras')` or `keras.saving.save_model(model, 'my_model.keras')`. \n"
     ]
    },
    {
     "name": "stdout",
     "output_type": "stream",
     "text": [
      "\u001b[1m25/25\u001b[0m \u001b[32m━━━━━━━━━━━━━━━━━━━━\u001b[0m\u001b[37m\u001b[0m \u001b[1m0s\u001b[0m 8ms/step - accuracy: 0.8366 - loss: 0.4558 - val_accuracy: 0.7150 - val_loss: 1.1205\n",
      "Epoch 4/50\n",
      "\u001b[1m21/25\u001b[0m \u001b[32m━━━━━━━━━━━━━━━━\u001b[0m\u001b[37m━━━━\u001b[0m \u001b[1m0s\u001b[0m 3ms/step - accuracy: 0.8944 - loss: 0.3454 \n",
      "Epoch 4: val_loss did not improve from 1.12046\n",
      "\u001b[1m25/25\u001b[0m \u001b[32m━━━━━━━━━━━━━━━━━━━━\u001b[0m\u001b[37m\u001b[0m \u001b[1m0s\u001b[0m 7ms/step - accuracy: 0.8894 - loss: 0.3537 - val_accuracy: 0.7200 - val_loss: 1.1327\n",
      "Epoch 5/50\n",
      "\u001b[1m16/25\u001b[0m \u001b[32m━━━━━━━━━━━━\u001b[0m\u001b[37m━━━━━━━━\u001b[0m \u001b[1m0s\u001b[0m 3ms/step - accuracy: 0.8369 - loss: 0.4606 \n",
      "Epoch 5: val_loss did not improve from 1.12046\n",
      "\u001b[1m25/25\u001b[0m \u001b[32m━━━━━━━━━━━━━━━━━━━━\u001b[0m\u001b[37m\u001b[0m \u001b[1m0s\u001b[0m 7ms/step - accuracy: 0.8438 - loss: 0.4384 - val_accuracy: 0.6850 - val_loss: 1.1550\n",
      "Epoch 6/50\n",
      "\u001b[1m12/25\u001b[0m \u001b[32m━━━━━━━━━\u001b[0m\u001b[37m━━━━━━━━━━━\u001b[0m \u001b[1m0s\u001b[0m 5ms/step - accuracy: 0.8636 - loss: 0.3651 \n",
      "Epoch 6: val_loss did not improve from 1.12046\n",
      "\u001b[1m25/25\u001b[0m \u001b[32m━━━━━━━━━━━━━━━━━━━━\u001b[0m\u001b[37m\u001b[0m \u001b[1m0s\u001b[0m 7ms/step - accuracy: 0.8526 - loss: 0.3936 - val_accuracy: 0.6650 - val_loss: 1.2347\n",
      "Epoch 7/50\n",
      "\u001b[1m18/25\u001b[0m \u001b[32m━━━━━━━━━━━━━━\u001b[0m\u001b[37m━━━━━━\u001b[0m \u001b[1m0s\u001b[0m 3ms/step - accuracy: 0.8500 - loss: 0.3986 \n",
      "Epoch 7: val_loss did not improve from 1.12046\n",
      "\u001b[1m25/25\u001b[0m \u001b[32m━━━━━━━━━━━━━━━━━━━━\u001b[0m\u001b[37m\u001b[0m \u001b[1m0s\u001b[0m 7ms/step - accuracy: 0.8543 - loss: 0.3954 - val_accuracy: 0.7000 - val_loss: 1.1452\n",
      "Epoch 8/50\n",
      "\u001b[1m21/25\u001b[0m \u001b[32m━━━━━━━━━━━━━━━━\u001b[0m\u001b[37m━━━━\u001b[0m \u001b[1m0s\u001b[0m 3ms/step - accuracy: 0.8760 - loss: 0.3624 \n",
      "Epoch 8: val_loss improved from 1.12046 to 1.06275, saving model to best_model.h5\n"
     ]
    },
    {
     "name": "stderr",
     "output_type": "stream",
     "text": [
      "WARNING:absl:You are saving your model as an HDF5 file via `model.save()` or `keras.saving.save_model(model)`. This file format is considered legacy. We recommend using instead the native Keras format, e.g. `model.save('my_model.keras')` or `keras.saving.save_model(model, 'my_model.keras')`. \n"
     ]
    },
    {
     "name": "stdout",
     "output_type": "stream",
     "text": [
      "\u001b[1m25/25\u001b[0m \u001b[32m━━━━━━━━━━━━━━━━━━━━\u001b[0m\u001b[37m\u001b[0m \u001b[1m0s\u001b[0m 8ms/step - accuracy: 0.8726 - loss: 0.3689 - val_accuracy: 0.7200 - val_loss: 1.0627\n",
      "Epoch 9/50\n",
      "\u001b[1m17/25\u001b[0m \u001b[32m━━━━━━━━━━━━━\u001b[0m\u001b[37m━━━━━━━\u001b[0m \u001b[1m0s\u001b[0m 3ms/step - accuracy: 0.8328 - loss: 0.4407 \n",
      "Epoch 9: val_loss did not improve from 1.06275\n",
      "\u001b[1m25/25\u001b[0m \u001b[32m━━━━━━━━━━━━━━━━━━━━\u001b[0m\u001b[37m\u001b[0m \u001b[1m0s\u001b[0m 6ms/step - accuracy: 0.8313 - loss: 0.4441 - val_accuracy: 0.6750 - val_loss: 1.1165\n",
      "Epoch 10/50\n",
      "\u001b[1m10/25\u001b[0m \u001b[32m━━━━━━━━\u001b[0m\u001b[37m━━━━━━━━━━━━\u001b[0m \u001b[1m0s\u001b[0m 6ms/step - accuracy: 0.9025 - loss: 0.3249 \n",
      "Epoch 10: val_loss did not improve from 1.06275\n",
      "\u001b[1m25/25\u001b[0m \u001b[32m━━━━━━━━━━━━━━━━━━━━\u001b[0m\u001b[37m\u001b[0m \u001b[1m0s\u001b[0m 7ms/step - accuracy: 0.8841 - loss: 0.3644 - val_accuracy: 0.6850 - val_loss: 1.1124\n",
      "Epoch 11/50\n",
      "\u001b[1m12/25\u001b[0m \u001b[32m━━━━━━━━━\u001b[0m\u001b[37m━━━━━━━━━━━\u001b[0m \u001b[1m0s\u001b[0m 5ms/step - accuracy: 0.8729 - loss: 0.3501 \n",
      "Epoch 11: val_loss did not improve from 1.06275\n",
      "\u001b[1m25/25\u001b[0m \u001b[32m━━━━━━━━━━━━━━━━━━━━\u001b[0m\u001b[37m\u001b[0m \u001b[1m0s\u001b[0m 7ms/step - accuracy: 0.8629 - loss: 0.3619 - val_accuracy: 0.6900 - val_loss: 1.1298\n",
      "Epoch 12/50\n",
      "\u001b[1m17/25\u001b[0m \u001b[32m━━━━━━━━━━━━━\u001b[0m\u001b[37m━━━━━━━\u001b[0m \u001b[1m0s\u001b[0m 3ms/step - accuracy: 0.9011 - loss: 0.3228 \n",
      "Epoch 12: val_loss did not improve from 1.06275\n",
      "\u001b[1m25/25\u001b[0m \u001b[32m━━━━━━━━━━━━━━━━━━━━\u001b[0m\u001b[37m\u001b[0m \u001b[1m0s\u001b[0m 6ms/step - accuracy: 0.8901 - loss: 0.3441 - val_accuracy: 0.7250 - val_loss: 1.0871\n",
      "Epoch 13/50\n",
      "\u001b[1m15/25\u001b[0m \u001b[32m━━━━━━━━━━━━\u001b[0m\u001b[37m━━━━━━━━\u001b[0m \u001b[1m0s\u001b[0m 4ms/step - accuracy: 0.8510 - loss: 0.4835 \n",
      "Epoch 13: val_loss improved from 1.06275 to 1.03639, saving model to best_model.h5\n"
     ]
    },
    {
     "name": "stderr",
     "output_type": "stream",
     "text": [
      "WARNING:absl:You are saving your model as an HDF5 file via `model.save()` or `keras.saving.save_model(model)`. This file format is considered legacy. We recommend using instead the native Keras format, e.g. `model.save('my_model.keras')` or `keras.saving.save_model(model, 'my_model.keras')`. \n"
     ]
    },
    {
     "name": "stdout",
     "output_type": "stream",
     "text": [
      "\u001b[1m25/25\u001b[0m \u001b[32m━━━━━━━━━━━━━━━━━━━━\u001b[0m\u001b[37m\u001b[0m \u001b[1m0s\u001b[0m 8ms/step - accuracy: 0.8545 - loss: 0.4582 - val_accuracy: 0.7300 - val_loss: 1.0364\n",
      "Epoch 14/50\n",
      "\u001b[1m19/25\u001b[0m \u001b[32m━━━━━━━━━━━━━━━\u001b[0m\u001b[37m━━━━━\u001b[0m \u001b[1m0s\u001b[0m 3ms/step - accuracy: 0.8889 - loss: 0.3412 \n",
      "Epoch 14: val_loss did not improve from 1.03639\n",
      "\u001b[1m25/25\u001b[0m \u001b[32m━━━━━━━━━━━━━━━━━━━━\u001b[0m\u001b[37m\u001b[0m \u001b[1m0s\u001b[0m 7ms/step - accuracy: 0.8847 - loss: 0.3461 - val_accuracy: 0.7000 - val_loss: 1.1113\n",
      "Epoch 15/50\n",
      "\u001b[1m20/25\u001b[0m \u001b[32m━━━━━━━━━━━━━━━━\u001b[0m\u001b[37m━━━━\u001b[0m \u001b[1m0s\u001b[0m 3ms/step - accuracy: 0.8460 - loss: 0.4627 \n",
      "Epoch 15: val_loss did not improve from 1.03639\n",
      "\u001b[1m25/25\u001b[0m \u001b[32m━━━━━━━━━━━━━━━━━━━━\u001b[0m\u001b[37m\u001b[0m \u001b[1m0s\u001b[0m 7ms/step - accuracy: 0.8474 - loss: 0.4565 - val_accuracy: 0.7150 - val_loss: 1.1245\n",
      "Epoch 16/50\n",
      "\u001b[1m22/25\u001b[0m \u001b[32m━━━━━━━━━━━━━━━━━\u001b[0m\u001b[37m━━━\u001b[0m \u001b[1m0s\u001b[0m 3ms/step - accuracy: 0.8704 - loss: 0.3357 \n",
      "Epoch 16: val_loss did not improve from 1.03639\n",
      "\u001b[1m25/25\u001b[0m \u001b[32m━━━━━━━━━━━━━━━━━━━━\u001b[0m\u001b[37m\u001b[0m \u001b[1m0s\u001b[0m 6ms/step - accuracy: 0.8690 - loss: 0.3434 - val_accuracy: 0.7100 - val_loss: 1.1310\n",
      "Epoch 17/50\n",
      "\u001b[1m17/25\u001b[0m \u001b[32m━━━━━━━━━━━━━\u001b[0m\u001b[37m━━━━━━━\u001b[0m \u001b[1m0s\u001b[0m 3ms/step - accuracy: 0.8799 - loss: 0.3350 \n",
      "Epoch 17: val_loss did not improve from 1.03639\n",
      "\u001b[1m25/25\u001b[0m \u001b[32m━━━━━━━━━━━━━━━━━━━━\u001b[0m\u001b[37m\u001b[0m \u001b[1m0s\u001b[0m 6ms/step - accuracy: 0.8718 - loss: 0.3548 - val_accuracy: 0.6700 - val_loss: 1.1969\n",
      "Epoch 18/50\n",
      "\u001b[1m16/25\u001b[0m \u001b[32m━━━━━━━━━━━━\u001b[0m\u001b[37m━━━━━━━━\u001b[0m \u001b[1m0s\u001b[0m 3ms/step - accuracy: 0.8666 - loss: 0.3682 \n",
      "Epoch 18: val_loss did not improve from 1.03639\n",
      "\u001b[1m25/25\u001b[0m \u001b[32m━━━━━━━━━━━━━━━━━━━━\u001b[0m\u001b[37m\u001b[0m \u001b[1m0s\u001b[0m 7ms/step - accuracy: 0.8606 - loss: 0.3870 - val_accuracy: 0.6900 - val_loss: 1.0973\n",
      "Validation Loss: 1.0364, Validation Accuracy: 0.7300\n"
     ]
    },
    {
     "data": {
      "image/png": "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",
      "text/plain": [
       "<Figure size 1400x500 with 2 Axes>"
      ]
     },
     "metadata": {},
     "output_type": "display_data"
    }
   ],
   "source": [
    "import tensorflow as tf\n",
    "from tensorflow.keras.callbacks import EarlyStopping, ModelCheckpoint\n",
    "\n",
    "# Use a patience of 5, meaning if val_loss doesn't improve for 5 consecutive epochs, training stops.\n",
    "early_stop = EarlyStopping(\n",
    "    monitor='val_loss',       # Monitors validation loss by default\n",
    "    patience=5,\n",
    "    restore_best_weights=True # Ensures model returns to the best epoch's weights\n",
    ")\n",
    "\n",
    "# Save the best model based on validation loss\n",
    "checkpoint = ModelCheckpoint(\n",
    "    'best_model.h5',         # Model file name\n",
    "    monitor='val_loss',       # Metric to monitor\n",
    "    save_best_only=True,      # Only save the best model\n",
    "    verbose=1\n",
    ")\n",
    "\n",
    "# Retaining your model and everything else the same, just adding callbacks\n",
    "history = model.fit(\n",
    "    X_train, \n",
    "    y_train_cat,\n",
    "    validation_data=(X_val, y_val_cat),\n",
    "    epochs=50,               
    "    batch_size=32,\n",
    "    verbose=1,\n",
    "    callbacks=[early_stop, checkpoint]\n",
    ")\n",
    "\n",
    "# Evaluate again\n",
    "val_loss, val_accuracy = model.evaluate(X_val, y_val_cat, verbose=0)\n",
    "print(f\"Validation Loss: {val_loss:.4f}, Validation Accuracy: {val_accuracy:.4f}\")\n",
    "\n",
    "# Plot training & validation curves\n",
    "import matplotlib.pyplot as plt\n",
    "\n",
    "fig, (ax1, ax2) = plt.subplots(1, 2, figsize=(14, 5))\n",
    "\n",
    "ax1.plot(history.history['accuracy'], label='Train Accuracy')\n",
    "ax1.plot(history.history['val_accuracy'], label='Val Accuracy')\n",
    "ax1.set_title('Model Accuracy')\n",
    "ax1.set_xlabel('Epoch')\n",
    "ax1.set_ylabel('Accuracy')\n",
    "ax1.legend(loc='best')\n",
    "\n",
    "ax2.plot(history.history['loss'], label='Train Loss')\n",
    "ax2.plot(history.history['val_loss'], label='Val Loss')\n",
    "ax2.set_title('Model Loss')\n",
    "ax2.set_xlabel('Epoch')\n",
    "ax2.set_ylabel('Loss')\n",
    "ax2.legend(loc='best')\n",
    "\n",
    "plt.show()\n"
   ]
  },
  {
   "cell_type": "code",
   "execution_count": 13,
   "id": "6b14d188",
   "metadata": {},
   "outputs": [
    {
     "name": "stdout",
     "output_type": "stream",
     "text": [
      "\u001b[1m7/7\u001b[0m \u001b[32m━━━━━━━━━━━━━━━━━━━━\u001b[0m\u001b[37m\u001b[0m \u001b[1m0s\u001b[0m 6ms/step \n",
      "Classification Report:\n",
      "\n",
      "              precision    recall  f1-score   support\n",
      "\n",
      "       blues       0.76      0.95      0.84        20\n",
      "   classical       0.87      1.00      0.93        13\n",
      "     country       0.83      0.89      0.86        27\n",
      "       disco       0.63      0.57      0.60        21\n",
      "      hiphop       0.50      0.60      0.55        15\n",
      "        jazz       0.78      0.64      0.70        22\n",
      "       metal       1.00      0.96      0.98        25\n",
      "         pop       0.67      0.62      0.64        13\n",
      "      reggae       0.67      0.43      0.53        23\n",
      "        rock       0.52      0.62      0.57        21\n",
      "\n",
      "    accuracy                           0.73       200\n",
      "   macro avg       0.72      0.73      0.72       200\n",
      "weighted avg       0.73      0.73      0.73       200\n",
      "\n",
      "\n",
      "Confusion Matrix:\n",
      " [[19  0  0  0  0  1  0  0  0  0]\n",
      " [ 0 13  0  0  0  0  0  0  0  0]\n",
      " [ 2  0 24  1  0  0  0  0  0  0]\n",
      " [ 2  0  0 12  2  0  0  1  1  3]\n",
      " [ 0  0  0  0  9  0  0  2  3  1]\n",
      " [ 1  2  1  1  0 14  0  0  0  3]\n",
      " [ 0  0  0  0  0  0 24  0  0  1]\n",
      " [ 1  0  2  0  1  0  0  8  1  0]\n",
      " [ 0  0  0  2  4  2  0  1 10  4]\n",
      " [ 0  0  2  3  2  1  0  0  0 13]]\n"
     ]
    }
   ],
   "source": [
    "from sklearn.metrics import classification_report, confusion_matrix\n",
    "\n",
    "# Predict on validation set\n",
    "y_val_pred = model.predict(X_val)\n",
    "y_val_pred_classes = np.argmax(y_val_pred, axis=1)\n",
    "\n",
    "# Classification report\n",
    "print(\"Classification Report:\\n\")\n",
    "print(classification_report(y_val, \n",
    "                            y_val_pred_classes, \n",
    "                            target_names=label_encoder.classes_))\n",
    "\n",
    "# Confusion matrix\n",
    "cm = confusion_matrix(y_val, y_val_pred_classes)\n",
    "print(\"\\nConfusion Matrix:\\n\", cm)\n"
   ]
  },
  {
   "cell_type": "code",
   "execution_count": 14,
   "id": "d583d9cd",
   "metadata": {},
   "outputs": [],
   "source": [
    "model.save(\"genre_classification_model.keras\")  # Keras recommended format"
   ]
  },
  {
   "cell_type": "code",
   "execution_count": null,
   "id": "79b8a43f",
   "metadata": {},
   "outputs": [],
   "source": []
  }
 ],
 "metadata": {
  "kernelspec": {
   "display_name": "Python 3 (ipykernel)",
   "language": "python",
   "name": "python3"
  },
  "language_info": {
   "codemirror_mode": {
    "name": "ipython",
    "version": 3
   },
   "file_extension": ".py",
   "mimetype": "text/x-python",
   "name": "python",
   "nbconvert_exporter": "python",
   "pygments_lexer": "ipython3",
   "version": "3.11.5"
  }
 },
 "nbformat": 4,
 "nbformat_minor": 5
}
